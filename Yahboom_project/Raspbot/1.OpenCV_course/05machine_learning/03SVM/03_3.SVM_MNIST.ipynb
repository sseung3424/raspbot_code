{
 "cells": [
  {
   "cell_type": "markdown",
   "metadata": {},
   "source": [
    "<center><img src=\"../../logo.png\" alt=\"Header\" style=\"width: 800px;\"/></center>"
   ]
  },
  {
   "cell_type": "markdown",
   "metadata": {},
   "source": [
    "\n",
    "@Copyright (C): 2010-2022, Shenzhen Yahboom Tech  \n",
    "@Author: Liusen  \n",
    "@Date: 2020-03-19 14:42:02  \n",
    "@LastEditors: Liusen  \n",
    "@LastEditTime: 2020-03-19 14:42:02   "
   ]
  },
  {
   "cell_type": "markdown",
   "metadata": {},
   "source": [
    "# Test handwritten digits of MNIST data"
   ]
  },
  {
   "cell_type": "code",
   "execution_count": null,
   "metadata": {},
   "outputs": [
    {
     "name": "stdout",
     "output_type": "stream",
     "text": [
      "test dataMat shape: (980, 784), test dataLabel len: 980 \n"
     ]
    }
   ],
   "source": [
    "import sys\n",
    "import time\n",
    "from PIL import Image\n",
    "import os\n",
    "from sklearn.externals import joblib\n",
    "import numpy as np\n",
    "import matplotlib.pyplot as plt\n",
    "\n",
    "# Get all .png files in the specified path\n",
    "def get_file_list(path):\n",
    "    return [os.path.join(path, f) for f in os.listdir(path) if f.endswith(\".png\")]\n",
    "\n",
    "# Parse the name of the .png image file\n",
    "def get_img_name_str(imgPath):\n",
    "    return imgPath.split(os.path.sep)[-1]\n",
    " \n",
    "# Convert 28px*28px image data to 1*784 numpy vector\n",
    "# Parameter: imgFile--image name eg: 0_1.png\n",
    "# Return: 1*784 numpy vector\n",
    "def img2vector(imgFile):\n",
    "    # print(\"in img2vector func--para:{}\".format(imgFile))\n",
    "    img = Image.open(imgFile).convert('L')\n",
    "    img_arr = np.array(img, 'i')  # 28px * 28px grayscale image\n",
    "    img_normalization = np.round(img_arr / 255)  # Normalize the gray value\n",
    "    img_arr2 = np.reshape(img_normalization, (1, -1))  # 1 * 400 matrix\n",
    "    return img_arr2\n",
    "\n",
    "# Read all data of a category and convert it into a matrix\n",
    "# Parameter:\n",
    "#   basePath: the base path where the image data is located\n",
    "#   MNIST-data / train /\n",
    "#   MNIST-data / test /\n",
    "#   cla: category name\n",
    "#   0,1,2, ..., 9\n",
    "# Return: all data of a certain category-[number of samples * (image width x image height)] matrix\n",
    "def read_and_convert(imgFileList):\n",
    "    dataLabel = []  # Storage class label\n",
    "    dataNum = len(imgFileList)\n",
    "    dataMat = np.zeros((dataNum, 784))  # dataNum * 784 matrix\n",
    "    for i in range(dataNum):\n",
    "        imgNameStr = imgFileList[i]\n",
    "        imgName = get_img_name_str(imgNameStr)  \n",
    "        # print(\"imgName: {}\".format(imgName))\n",
    "        classTag = imgNameStr.split(os.path.sep)[-2]\n",
    "        # classTag = imgName.split(\".\")[0].split(\"_\")[0]  # Get class label (number)\n",
    "        #print(classTag)\n",
    "        #print(imgNameStr)\n",
    "        dataLabel.append(classTag)\n",
    "        dataMat[i, :] = img2vector(imgNameStr)\n",
    "    return dataMat, dataLabel\n",
    "\n",
    "def svmtest(model_path):\n",
    "\n",
    "    tbasePath = \"MNIST_data/test/\"\n",
    "    tcName = ['0', '1', '2', '3', '4', '5', '6', '7', '8', '9']\n",
    "    tst = time.clock()\n",
    "    allErrCount = 0\n",
    "    allErrorRate = 0.0\n",
    "    allScore = 0.0\n",
    "    ErrCount=np.zeros(10,int)\n",
    "    TrueCount=np.zeros(10,int)\n",
    "    #加载模型\n",
    "    clf = joblib.load(model_path)\n",
    "    for tcn in tcName:\n",
    "        testPath = tbasePath + tcn\n",
    "        # print(\"class \" + tcn + \" path is: {}.\".format(testPath))\n",
    "        tflist = get_file_list(testPath)\n",
    "        # tflist\n",
    "        tdataMat, tdataLabel = read_and_convert(tflist)\n",
    "        print(\"test dataMat shape: {0}, test dataLabel len: {1} \".format(tdataMat.shape, len(tdataLabel)))\n",
    "        # print(\"test dataLabel: {}\".format(len(tdataLabel)))\n",
    "        pre_st = time.clock()\n",
    "        preResult = clf.predict(tdataMat)\n",
    "        pre_et = time.clock()\n",
    "        print(\"Recognition  \" + tcn + \" spent {:.4f}s.\".format((pre_et - pre_st)))\n",
    "        # print(\"predict result: {}\".format(len(preResult)))\n",
    "        errCount = len([x for x in preResult if x != tcn])\n",
    "        ErrCount[int(tcn)]=errCount\n",
    "        TrueCount[int(tcn)]= len(tdataLabel)-errCount\n",
    "        print(\"errorCount: {}.\".format(errCount))\n",
    "        allErrCount += errCount\n",
    "        score_st = time.clock()\n",
    "        score = clf.score(tdataMat, tdataLabel)\n",
    "        score_et = time.clock()\n",
    "        print(\"computing score spent {:.6f}s.\".format(score_et - score_st))\n",
    "        allScore += score\n",
    "        print(\"score: {:.6f}.\".format(score))\n",
    "        print(\"error rate is {:.6f}.\".format((1 - score)))\n",
    " \n",
    "    tet = time.clock()\n",
    "    print(\"Testing All class total spent {:.6f}s.\".format(tet - tst))\n",
    "    print(\"All error Count is: {}.\".format(allErrCount))\n",
    "    avgAccuracy = allScore / 10.0\n",
    "    print(\"Average accuracy is: {:.6f}.\".format(avgAccuracy))\n",
    "    print(\"Average error rate is: {:.6f}.\".format(1 - avgAccuracy))\n",
    "    print(\"number\",\" TrueCount\",\" ErrCount\")\n",
    "    for tcn in tcName:\n",
    "        tcn=int(tcn)\n",
    "        print(tcn,\"     \",TrueCount[tcn],\"      \",ErrCount[tcn])\n",
    "    plt.figure(figsize=(12, 6))\n",
    "    x=list(range(10))\n",
    "    plt.plot(x,TrueCount, color='green', label=\"TrueCount\")  # Mark right s as green\n",
    "    plt.plot(x,ErrCount, color='red', label=\"ErrCount\")      # Mark errors as red \n",
    "    plt.legend(loc='best')  # Show the position of the legend, here is the lower right\n",
    "    plt.title('Projects')\n",
    "    plt.xlabel('number')    # x-axis label\n",
    "    plt.ylabel('count')     # y-axis label\n",
    "    plt.xticks(np.arange(10), ['0', '1', '2', '3', '4', '5', '6', '7', '8', '9'])\n",
    "    plt.show()\n",
    " \n",
    " \n",
    "if __name__ == '__main__':\n",
    "    model_path='model/svm.model'\n",
    "    svmtest(model_path)\n"
   ]
  },
  {
   "cell_type": "code",
   "execution_count": null,
   "metadata": {},
   "outputs": [],
   "source": []
  }
 ],
 "metadata": {
  "kernelspec": {
   "display_name": "Python 2",
   "language": "python",
   "name": "python2"
  },
  "language_info": {
   "codemirror_mode": {
    "name": "ipython",
    "version": 2
   },
   "file_extension": ".py",
   "mimetype": "text/x-python",
   "name": "python",
   "nbconvert_exporter": "python",
   "pygments_lexer": "ipython2",
   "version": "2.7.16"
  }
 },
 "nbformat": 4,
 "nbformat_minor": 4
}
