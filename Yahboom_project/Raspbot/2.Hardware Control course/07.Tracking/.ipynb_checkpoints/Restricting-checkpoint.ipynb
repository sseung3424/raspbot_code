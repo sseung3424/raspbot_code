{
 "cells": [
  {
   "cell_type": "code",
   "execution_count": 1,
   "metadata": {},
   "outputs": [],
   "source": [
    "#-*- coding:UTF-8 -*-\n",
    "import RPi.GPIO as GPIO\n",
    "import time\n",
    "import YB_Pcb_Car    #导入Yahboom专门库文件\n",
    "\n",
    "car = YB_Pcb_Car.YB_Pcb_Car()\n",
    "\n",
    "Tracking_Right1 = 11   #X1A  右边第一个传感器\n",
    "Tracking_Right2 = 7  #X2A  右边第二个传感器\n",
    "Tracking_Left1 = 13   #X1B 左边第一个传感器\n",
    "Tracking_Left2 = 15   #X2B 左边第二个传感器\n",
    "\n",
    "GPIO.setmode(GPIO.BOARD)\n",
    "\n",
    "GPIO.setwarnings(False)\n",
    "\n",
    "GPIO.setup(Tracking_Left1,GPIO.IN)\n",
    "GPIO.setup(Tracking_Left2,GPIO.IN)\n",
    "GPIO.setup(Tracking_Right1,GPIO.IN)\n",
    "GPIO.setup(Tracking_Right2,GPIO.IN)"
   ]
  },
  {
   "cell_type": "code",
   "execution_count": 2,
   "metadata": {},
   "outputs": [],
   "source": [
    "def avoid():\n",
    "    Tracking_Left1Value = GPIO.input(Tracking_Left1);\n",
    "    Tracking_Left2Value = GPIO.input(Tracking_Left2);\n",
    "    Tracking_Right1Value = GPIO.input(Tracking_Right1);\n",
    "    Tracking_Right2Value = GPIO.input(Tracking_Right2);\n",
    "     \n",
    "        # 0000\n",
    "    if Tracking_Left1Value == False and Tracking_Left2Value == False and Tracking_Right1Value == False and Tracking_Right2Value == False :\n",
    "        car.Car_Spin_Right(70,70) \n",
    "        time.sleep(1)\n",
    "        #1X00\n",
    "    elif Tracking_Left1Value == True and Tracking_Right1Value == False and Tracking_Right2Value == False :\n",
    "        car.Car_Spin_Left(50,50) \n",
    "        time.sleep(1)\n",
    "        #00X1\n",
    "    elif Tracking_Left1Value == False and Tracking_Left2Value == False and Tracking_Right2Value == True :\n",
    "        car.Car_Spin_Right(50,50)\n",
    "        time.sleep(1)\n",
    "        #1001\n",
    "    elif Tracking_Left1Value == True and Tracking_Left2Value == False and Tracking_Right1Value == False and Tracking_Right2Value == True :\n",
    "        car.Car_Spin_Right(50,50) \n",
    "        time.sleep(0.5)\n",
    "        #0110\n",
    "    elif Tracking_Left1Value == False and Tracking_Left2Value == True and Tracking_Right1Value == True and Tracking_Right2Value == False :\n",
    "        car.Car_Spin_Right(60,60) \n",
    "        time.sleep(1)\n",
    "        #0111\n",
    "    elif Tracking_Left1Value == False and Tracking_Left2Value == True and Tracking_Right1Value == True and Tracking_Right2Value == True :\n",
    "        car.Car_Spin_Right(50,50) \n",
    "        time.sleep(0.5)\n",
    "        #1110\n",
    "    elif Tracking_Left1Value == True and Tracking_Left2Value == True and Tracking_Right1Value == True and Tracking_Right2Value == False :\n",
    "        car.Car_Spin_Left(50,50) \n",
    "        time.sleep(0.5)\n",
    "    elif Tracking_Left1Value == True and Tracking_Left2Value == True and Tracking_Right1Value == True and Tracking_Right2Value == True :\n",
    "        car.Car_Run(70,70) "
   ]
  },
  {
   "cell_type": "code",
   "execution_count": 3,
   "metadata": {},
   "outputs": [
    {
     "name": "stdout",
     "output_type": "stream",
     "text": [
      "Ending\n"
     ]
    }
   ],
   "source": [
    "try:\n",
    "    while True:\n",
    "        avoid()\n",
    "except KeyboardInterrupt:\n",
    "    pass\n",
    "car.Car_Stop() \n",
    "del car\n",
    "print(\"Ending\")\n",
    "GPIO.cleanup()"
   ]
  },
  {
   "cell_type": "code",
   "execution_count": null,
   "metadata": {},
   "outputs": [],
   "source": []
  }
 ],
 "metadata": {
  "kernelspec": {
   "display_name": "Python 3",
   "language": "python",
   "name": "python3"
  },
  "language_info": {
   "codemirror_mode": {
    "name": "ipython",
    "version": 3
   },
   "file_extension": ".py",
   "mimetype": "text/x-python",
   "name": "python",
   "nbconvert_exporter": "python",
   "pygments_lexer": "ipython3",
   "version": "3.7.3"
  }
 },
 "nbformat": 4,
 "nbformat_minor": 4
}
