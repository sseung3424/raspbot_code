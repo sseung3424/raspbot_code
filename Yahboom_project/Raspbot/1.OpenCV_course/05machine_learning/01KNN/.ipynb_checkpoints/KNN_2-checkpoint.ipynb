{
 "cells": [
  {
   "cell_type": "markdown",
   "metadata": {},
   "source": [
    "<center><img src=\"../../logo.png\" alt=\"Header\" style=\"width: 800px;\"/></center>"
   ]
  },
  {
   "cell_type": "markdown",
   "metadata": {},
   "source": [
    "@Copyright (C): 2010-2022, Shenzhen Yahboom Tech  \n",
    "@Author: Liusen  \n",
    "@Date: 2020-03-10 12:11:02  \n",
    "@LastEditors: Liusen  \n",
    "@LastEditTime: 2020-02-18 12:12:02   "
   ]
  },
  {
   "cell_type": "code",
   "execution_count": null,
   "metadata": {},
   "outputs": [],
   "source": [
    "#!/usr/bin/env python3\n",
    "# -*- coding: utf-8 -*-\n",
    "\n",
    "import numpy as np\n",
    "import operator\n",
    "import os\n",
    "\n"
   ]
  },
  {
   "cell_type": "code",
   "execution_count": null,
   "metadata": {},
   "outputs": [],
   "source": [
    "# Convert image data to (1,1024) vector\n",
    "def img2vector(filename):\n",
    "    returnVect = np.zeros((1, 1024))\n",
    "    file = open(filename)\n",
    "    for i in range(32):\n",
    "        lineStr = file.readline()\n",
    "        for j in range(32):\n",
    "            returnVect[0, 32 * i + j] = int(lineStr[j])\n",
    "    return returnVect"
   ]
  },
  {
   "cell_type": "code",
   "execution_count": null,
   "metadata": {},
   "outputs": [],
   "source": [
    "# KNN Classifier\n",
    "def classifier(inX, dataSet, labels, k):\n",
    "    \n",
    "    #numpy shape [0] return the number of rows in the array, shape [1] returns the number of columns\n",
    "    #MDS\n",
    "    dataSetSize = dataSet.shape[0]\n",
    "    #The inverse matrix\n",
    "    diffMat = np.tile(inX, (dataSetSize, 1)) - dataSet\n",
    "    #Two-dimensional features are subtracted first and then power\n",
    "    sqDiffMat = diffMat ** 2\n",
    "    #Calculate distance\n",
    "    sqDistances = sqDiffMat.sum(axis=1)\n",
    "    distances = sqDistances ** 0.5\n",
    "    print (\"distances:\",distances)\n",
    "    #Returns the index of the elements in distance sorted from small to large\n",
    "    sortedDistIndicies = distances.argsort()\n",
    "    print (\"sortDistance:\",sortedDistIndicies)\n",
    "    classCount = {}\n",
    "    for i in range(k):\n",
    "        #Take out the first k element categories\n",
    "        voteIlabel = labels[sortedDistIndicies[i]]\n",
    "        classCount[voteIlabel] = classCount.get(voteIlabel, 0) + 1\n",
    "    #reverse\n",
    "    sortedClassCount = sorted(classCount.items(), key=operator.itemgetter(1), reverse=True)\n",
    "    return sortedClassCount[0][0]"
   ]
  },
  {
   "cell_type": "markdown",
   "metadata": {},
   "source": [
    "# Test a picture separately to view the recognition results"
   ]
  },
  {
   "cell_type": "code",
   "execution_count": null,
   "metadata": {},
   "outputs": [],
   "source": [
    "#Convert image data to txt file\n",
    "\n",
    "from PIL import Image\n",
    "\"\"\"\n",
    "    将图像数据转换为txt文件\n",
    "    :param img_path: 图像文件路径\n",
    "    :type txt_name: 输出txt文件路径\n",
    "\"\"\"\n",
    "def img2txt(img_path, txt_name):\n",
    "    \n",
    "    im = Image.open(img_path).convert('1').resize((32, 32))  # type:Image.Image\n",
    "    data = np.asarray(im)\n",
    "    np.savetxt(txt_name, data, fmt='%d', delimiter='')"
   ]
  },
  {
   "cell_type": "code",
   "execution_count": null,
   "metadata": {},
   "outputs": [],
   "source": [
    "#Convert the image to a 32*32 array\n",
    "\n",
    "img2txt(\"2.png\", \"2.txt\")"
   ]
  },
  {
   "cell_type": "code",
   "execution_count": null,
   "metadata": {},
   "outputs": [],
   "source": [
    "#training part\n",
    "\n",
    "hwLabels = []\n",
    "trainingFileList = os.listdir('knn-digits/trainingDigits')\n",
    "m = len(trainingFileList)\n",
    "trainingMat = np.zeros((m, 1024))\n",
    "for i in range(m):\n",
    "    fileNameStr = trainingFileList[i]\n",
    "    fileStr = fileNameStr.split('.')[0]  \n",
    "    try:\n",
    "#         if(fileStr.split('_')[0] == ''):\n",
    "#             continue\n",
    "#         else:\n",
    "        classNumStr = int(fileStr.split('_')[0])\n",
    "    except Exception as e:\n",
    "        print('Error:', e)\n",
    "\n",
    "    hwLabels.append(classNumStr)\n",
    "    trainingMat[i, :] = img2vector(\"knn-digits/trainingDigits/%s\" % fileNameStr)"
   ]
  },
  {
   "cell_type": "code",
   "execution_count": null,
   "metadata": {},
   "outputs": [],
   "source": [
    "#Recognize handwrite classification results\n",
    "\n",
    "fileStr = \"2.txt\"\n",
    "classNumStr = int(fileStr.split('.')[0])\n",
    "vectorTest = img2vector(\"./2.txt\")\n",
    "\n",
    "#print(vectorTest[0][])\n",
    "\n",
    "result = classifier(vectorTest, trainingMat, hwLabels, 3)  # k=3\n",
    "print(\"The classification result is:%d, The real result is:%d\" % (result, classNumStr))\n",
    "\n"
   ]
  },
  {
   "cell_type": "code",
   "execution_count": null,
   "metadata": {},
   "outputs": [],
   "source": []
  },
  {
   "cell_type": "code",
   "execution_count": null,
   "metadata": {},
   "outputs": [],
   "source": []
  }
 ],
 "metadata": {
  "kernelspec": {
   "display_name": "Python 3",
   "language": "python",
   "name": "python3"
  },
  "language_info": {
   "codemirror_mode": {
    "name": "ipython",
    "version": 3
   },
   "file_extension": ".py",
   "mimetype": "text/x-python",
   "name": "python",
   "nbconvert_exporter": "python",
   "pygments_lexer": "ipython3",
   "version": "3.7.3"
  }
 },
 "nbformat": 4,
 "nbformat_minor": 4
}
