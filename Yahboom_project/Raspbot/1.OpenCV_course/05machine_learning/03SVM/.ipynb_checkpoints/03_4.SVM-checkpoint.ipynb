{
 "cells": [
  {
   "cell_type": "markdown",
   "metadata": {},
   "source": [
    "<center><img src=\"../../logo.png\" alt=\"Header\" style=\"width: 800px;\"/></center>"
   ]
  },
  {
   "cell_type": "markdown",
   "metadata": {},
   "source": [
    "\n",
    "@Copyright (C): 2010-2022, Shenzhen Yahboom Tech  \n",
    "@Author: Liusen  \n",
    "@Date: 2020-03-19 15:42:02  \n",
    "@LastEditors: Liusen  \n",
    "@LastEditTime: 2020-03-19 15:42:02   "
   ]
  },
  {
   "cell_type": "markdown",
   "metadata": {},
   "source": [
    "# Test handwritten digits by ourself of MNIST data"
   ]
  },
  {
   "cell_type": "code",
   "execution_count": 1,
   "metadata": {},
   "outputs": [
    {
     "name": "stdout",
     "output_type": "stream",
     "text": [
      "test dataMat shape: (1, 784), test dataLabel len: 1 \n",
      "Recognition  1 spent 0.2701s.\n",
      "predict result: 1\n"
     ]
    }
   ],
   "source": [
    "from PIL import Image\n",
    "import sys\n",
    "import time\n",
    "import os\n",
    "from sklearn.externals import joblib\n",
    "import numpy as np\n",
    "import matplotlib.pyplot as plt\n",
    "\n",
    "#  Get all .png files in the specified path\n",
    "def get_file_list(path):\n",
    "    return [os.path.join(path, f) for f in os.listdir(path) if f.endswith(\".png\")]\n",
    " \n",
    "# Parse the name of the .png image file\n",
    "def get_img_name_str(imgPath):\n",
    "    return imgPath.split(os.path.sep)[-1]\n",
    " \n",
    " \n",
    "# 将 28px * 28px 的图像数据转换成 1*784 的 numpy 向量\n",
    "# Parameter: imgFile--image name eg: 0_1.png\n",
    "# Return: 1*784 numpy vector\n",
    "def img2vector(imgFile):\n",
    "    # print(\"in img2vector func--para:{}\".format(imgFile))\n",
    "    img = Image.open(imgFile).convert('L')\n",
    "    img_arr = np.array(img, 'i')  # 28px * 28px 灰度图像\n",
    "    img_normalization = np.round(img_arr / 255)  # 对灰度值进行归一化\n",
    "    img_arr2 = np.reshape(img_normalization, (1, -1))  # 1 * 400 矩阵\n",
    "    return img_arr2\n",
    " \n",
    " \n",
    "# Read all data of a category and convert it into a matrix\n",
    "# Parameter:\n",
    "#    basePath: the base path where the image data is located\n",
    "#       MNIST-data/train/\n",
    "#       MNIST-data/test/\n",
    "#    cla：category name\n",
    "#       0,1,2,...,9\n",
    "# Return: all data of a certain category-[number of samples * (image width x image height)] matrix\n",
    "def read_and_convert(imgFileList):\n",
    "    dataLabel = []  \n",
    "    dataNum = len(imgFileList)\n",
    "    dataMat = np.zeros((dataNum, 784))  # dataNum * 784 matrix\n",
    "    for i in range(dataNum):\n",
    "        imgNameStr = imgFileList[i]\n",
    "        imgName = get_img_name_str(imgNameStr)  \n",
    "        # print(\"imgName: {}\".format(imgName))\n",
    "        classTag = imgNameStr.split(os.path.sep)[-2]\n",
    "        # classTag = imgName.split(\".\")[0].split(\"_\")[0]  #Get class label (number)\n",
    "        #print(classTag)\n",
    "        #print(imgNameStr)\n",
    "        dataLabel.append(classTag)\n",
    "        dataMat[i, :] = img2vector(imgNameStr)\n",
    "    return dataMat, dataLabel\n",
    " \n",
    "def svmtest(model_path):\n",
    "    \n",
    "    #path of image\n",
    "    tbasePath = \"image/\"\n",
    "\n",
    "    #load model\n",
    "    clf = joblib.load(model_path)\n",
    "    #Get file list\n",
    "    tflist = get_file_list(tbasePath)\n",
    "    # tflist\n",
    "    tdataMat, tdataLabel = read_and_convert(tflist)\n",
    "    print(\"test dataMat shape: {0}, test dataLabel len: {1} \".format(tdataMat.shape, len(tdataLabel)))\n",
    "    pre_st = time.clock()\n",
    "    #forecast result\n",
    "    preResult = clf.predict(tdataMat) \n",
    "    pre_et = time.clock()\n",
    "    print(\"Recognition  1 spent {:.4f}s.\".format((pre_et - pre_st)))\n",
    "    print(\"predict result: {}\".format(len(preResult)))\n",
    "    score = clf.score(tdataMat, tdataLabel)\n",
    "\n",
    " \n",
    "if __name__ == '__main__':\n",
    "    model_path='model/svm.model'\n",
    "    svmtest(model_path)\n"
   ]
  },
  {
   "cell_type": "code",
   "execution_count": null,
   "metadata": {},
   "outputs": [],
   "source": []
  }
 ],
 "metadata": {
  "kernelspec": {
   "display_name": "Python 2",
   "language": "python",
   "name": "python2"
  },
  "language_info": {
   "codemirror_mode": {
    "name": "ipython",
    "version": 2
   },
   "file_extension": ".py",
   "mimetype": "text/x-python",
   "name": "python",
   "nbconvert_exporter": "python",
   "pygments_lexer": "ipython2",
   "version": "2.7.16"
  }
 },
 "nbformat": 4,
 "nbformat_minor": 4
}
