{
 "cells": [
  {
   "cell_type": "markdown",
   "metadata": {},
   "source": [
    "/**\n",
    "* @par Copyright (C): 2010-2020, Shenzhen Yahboom Tech\n",
    "* @file:         红外遥控小车.ipynb\n",
    "* @author:       xiaozhen\n",
    "* @version:      V1.0\n",
    "* @date:         2020.09.24\n",
    "* @brief:        红外遥控\n",
    "* @details\n",
    "* @par History:  见如下说明\n",
    "*/"
   ]
  },
  {
   "cell_type": "markdown",
   "metadata": {},
   "source": [
    "### 导入我们需要用到的库文件"
   ]
  },
  {
   "cell_type": "code",
   "execution_count": 1,
   "metadata": {},
   "outputs": [],
   "source": [
    "#!/usr/bin/python3\n",
    "# -*- coding:utf-8 -*-\n",
    "import RPi.GPIO as GPIO\n",
    "import time\n",
    "import YB_Pcb_Car    #导入Yahboom专门库文件\n",
    "\n",
    "car = YB_Pcb_Car.YB_Pcb_Car()"
   ]
  },
  {
   "cell_type": "markdown",
   "metadata": {},
   "source": [
    "### 定义本次课程需要用到的引脚。\n",
    "\n",
    "### 设置GPIO的编码方式，以及初始化设置，定义需要用到的函数。"
   ]
  },
  {
   "cell_type": "code",
   "execution_count": 2,
   "metadata": {},
   "outputs": [],
   "source": [
    "PIN = 36; #红外接收头引脚定义\n",
    "buzzer = 32; #蜂鸣器引脚定义\n",
    "\n",
    "#设置GPIO口为BIARD编码方式\n",
    "GPIO.setmode(GPIO.BOARD)\n",
    "\n",
    "#忽略警告信息\n",
    "GPIO.setwarnings(False)\n",
    "\n",
    "ir_repeat_cnt = 0\n",
    "\n",
    "def init():\n",
    "    GPIO.setup(PIN,GPIO.IN,GPIO.PUD_UP)  #红外接收头的引脚需要设置成输入上拉\n",
    "    GPIO.setup(buzzer,GPIO.OUT)         #蜂鸣器的引脚需要设置成输出模式\n",
    "    print(\"IR control start...\")\n",
    "\n",
    "#小车鸣笛\n",
    "def whistle():\n",
    "    p = GPIO.PWM(buzzer, 440) \n",
    "    p.start(100)\n",
    "    for dc in range(0, 1, 1):\n",
    "        p.ChangeDutyCycle(dc)\n",
    "        time.sleep(0.1)"
   ]
  },
  {
   "cell_type": "markdown",
   "metadata": {},
   "source": [
    "### 以下函数exec_cmd是定义红外遥控器上面的所有按键的功能。\n",
    "\n",
    "### 这里我们只定义了部分按键的功能。用户可以自行添加功能。"
   ]
  },
  {
   "cell_type": "code",
   "execution_count": 3,
   "metadata": {},
   "outputs": [],
   "source": [
    "def exec_cmd(key_val):\n",
    "    if key_val==0x00:  #红外遥控器上面的电源按键\n",
    "        car.Ctrl_Servo(1, 0)\n",
    "    elif key_val==0x01:   #向上按键\n",
    "        car.Car_Run(100, 100)   #小车前进\n",
    "    elif key_val==0x02:   #Light按键\n",
    "        car.Car_Stop()\n",
    "    elif key_val==0x04:   #左按键\n",
    "        car.Car_Left(100, 100)\n",
    "    elif key_val==0x05:   #鸣笛按键\n",
    "        whistle()         #蜂鸣器鸣笛\n",
    "    elif key_val==0x06:   #右按键\n",
    "        car.Car_Right(100, 100)\n",
    "    elif key_val==0x08:   #左旋按键\n",
    "        car.Car_Spin_Left(100, 100)\n",
    "    elif key_val==0x09:   #向下按键\n",
    "        car.Car_Back(100, 100)  \n",
    "    elif key_val==0x0a:   #右旋按键\n",
    "        car.Car_Spin_Right(100, 100)\n",
    "    elif key_val==0x0c:   #+按键\n",
    "        car.Ctrl_Servo(1, 90)\n",
    "    elif key_val==0x0d:   #数字0按键\n",
    "        car.Ctrl_Servo(1, 0)\n",
    "    elif key_val==0x0e:   #-按键\n",
    "        car.Ctrl_Servo(1, 90)\n",
    "    elif key_val==0x10:   #数字1按键\n",
    "        car.Ctrl_Servo(1, 0)\n",
    "    elif key_val==0x11:   #数字2按键\n",
    "        car.Ctrl_Servo(1, 90)\n",
    "    elif key_val==0x12:   #数字3按键\n",
    "        car.Ctrl_Servo(1, 0)\n",
    "    elif key_val==0x14:   #数字4按键\n",
    "        car.Ctrl_Servo(1, 0)\n",
    "    elif key_val==0x15:   #数字5按键\n",
    "        car.Ctrl_Servo(1, 90)\n",
    "    elif key_val==0x16:   #数字6按键\n",
    "        car.Ctrl_Servo(1, 180)\n",
    "    elif key_val==0x18:   #数字7按键\n",
    "        car.Ctrl_Servo(2, 0)\n",
    "    elif key_val==0x19:   #数字8按键\n",
    "        car.Ctrl_Servo(2, 90)\n",
    "    elif key_val==0x1a:   #数字9按键\n",
    "        car.Ctrl_Servo(2, 180) \n",
    "    else:\n",
    "\t    brake()\n",
    "    "
   ]
  },
  {
   "cell_type": "markdown",
   "metadata": {},
   "source": [
    "### 以下内容是主循环函数"
   ]
  },
  {
   "cell_type": "code",
   "execution_count": 4,
   "metadata": {},
   "outputs": [
    {
     "name": "stdout",
     "output_type": "stream",
     "text": [
      "IR control start...\n",
      "Get the key: 0x01\n",
      "Get the key: 0x01\n",
      "Get the key: 0x01\n",
      "Get the key: 0x09\n",
      "Get the key: 0x00\n",
      "Get the key: 0x02\n",
      "Get the key: 0x04\n",
      "Get the key: 0x0c\n",
      "Get the key: 0x0d\n",
      "Get the key: 0x10\n",
      "Get the key: 0x14\n",
      "Get the key: 0x18\n",
      "Get the key: 0x15\n",
      "Get the key: 0x11\n",
      "Get the key: 0x04\n",
      "Get the key: 0x06\n",
      "Get the key: 0x05\n",
      "Get the key: 0x09\n",
      "Ending\n"
     ]
    }
   ],
   "source": [
    "try:\n",
    "    init()\n",
    "    while True:\n",
    "        if GPIO.input(PIN) == 0:\n",
    "            ir_repeat_cnt = 0;\n",
    "            count = 0\n",
    "            while GPIO.input(PIN) == 0 and count < 200:\n",
    "                count += 1\n",
    "                time.sleep(0.00006)\n",
    "\n",
    "            count = 0\n",
    "            while GPIO.input(PIN) == 1 and count < 80:\n",
    "                count += 1\n",
    "                time.sleep(0.00006)\n",
    "\n",
    "            idx = 0\n",
    "            cnt = 0\n",
    "            data = [0,0,0,0]\n",
    "            for i in range(0,32):\n",
    "                count = 0\n",
    "                while GPIO.input(PIN) == 0 and count < 15:\n",
    "                    count += 1\n",
    "                    time.sleep(0.00006)\n",
    "\n",
    "                count = 0\n",
    "                while GPIO.input(PIN) == 1 and count < 40:\n",
    "                    count += 1\n",
    "                    time.sleep(0.00006)\n",
    "\n",
    "                if count > 9:\n",
    "                    data[idx] |= 1<<cnt\n",
    "                if cnt == 7:\n",
    "                    cnt = 0\n",
    "                    idx += 1\n",
    "                else:\n",
    "                    cnt += 1\n",
    "            if data[0]+data[1] == 0xFF and data[2]+data[3] == 0xFF:\n",
    "                print(\"Get the key: 0x%02x\" %data[2])\n",
    "                exec_cmd(data[2])\n",
    "        else:\n",
    "            if ir_repeat_cnt > 110: #判断红外遥控器按键是否被松开，因为重复周期的时间是110ms,所以这里要设置成110*0.001.\n",
    "                ir_repeat_cnt = 0\n",
    "                car.Car_Stop()\n",
    "            else:\n",
    "                time.sleep(0.001)\n",
    "                ir_repeat_cnt += 1\n",
    "except KeyboardInterrupt:\n",
    "    pass\n",
    "print(\"Ending\")\n",
    "GPIO.cleanup()"
   ]
  },
  {
   "cell_type": "code",
   "execution_count": null,
   "metadata": {},
   "outputs": [],
   "source": []
  },
  {
   "cell_type": "markdown",
   "metadata": {},
   "source": [
    "### 当你需要结束整个程序时，请点击上方菜单栏中的方块型按钮(Interrupt the kernel）.\n",
    "### 然后你可以看到Ending提示，表示已经成功地结束了这个程序"
   ]
  },
  {
   "cell_type": "code",
   "execution_count": null,
   "metadata": {},
   "outputs": [],
   "source": []
  }
 ],
 "metadata": {
  "kernelspec": {
   "display_name": "Python 3",
   "language": "python",
   "name": "python3"
  },
  "language_info": {
   "codemirror_mode": {
    "name": "ipython",
    "version": 3
   },
   "file_extension": ".py",
   "mimetype": "text/x-python",
   "name": "python",
   "nbconvert_exporter": "python",
   "pygments_lexer": "ipython3",
   "version": "3.7.3"
  }
 },
 "nbformat": 4,
 "nbformat_minor": 4
}
