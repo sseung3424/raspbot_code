{
 "cells": [
  {
   "cell_type": "markdown",
   "metadata": {},
   "source": [
    "<center><img src=\"../../logo.png\" alt=\"Header\" style=\"width: 800px;\"/></center>"
   ]
  },
  {
   "cell_type": "markdown",
   "metadata": {},
   "source": [
    "\n",
    "@Copyright (C): 2010-2022, Shenzhen Yahboom Tech  \n",
    "@Author: Liusen  \n",
    "@Date: 2020-03-18 17:32:02  \n",
    "@LastEditors: Liusen  \n",
    "@LastEditTime: 2020-03-18 17:32:02   "
   ]
  },
  {
   "cell_type": "markdown",
   "metadata": {},
   "source": [
    "# Compressed files are converted into image files for later processing\n",
    "# Note: The image we provided has already been executed this code, you didn't need to execute this code, just for learning"
   ]
  },
  {
   "cell_type": "code",
   "execution_count": null,
   "metadata": {},
   "outputs": [],
   "source": [
    "import struct\n",
    "from array import array\n",
    "import os\n",
    "# Input pip install pypng command install this library\n",
    "import png\n",
    " \n",
    "trainimg = './MNIST_data/train-images.idx3-ubyte'\n",
    "trainlabel = './MNIST_data/train-labels.idx1-ubyte'\n",
    "testimg = './MNIST_data/t10k-images.idx3-ubyte'\n",
    "testlabel = './MNIST_data/t10k-labels.idx1-ubyte'\n",
    "trainfolder = './MNIST_data/train'\n",
    "testfolder = './MNIST_data/test'\n",
    "if not os.path.exists(trainfolder): os.makedirs(trainfolder)\n",
    "if not os.path.exists(testfolder): os.makedirs(testfolder)\n",
    " \n",
    "# open(File path, read-write format), used to open a file and return a file object\n",
    "# rb means open the file with binary read mode\n",
    "trimg = open(trainimg, 'rb')\n",
    "teimg = open(testimg, 'rb')\n",
    "trlab = open(trainlabel, 'rb')\n",
    "telab = open(testlabel, 'rb')\n",
    "# struct\n",
    "struct.unpack(\">IIII\", trimg.read(16))\n",
    "struct.unpack(\">IIII\", teimg.read(16))\n",
    "struct.unpack(\">II\", trlab.read(8))\n",
    "struct.unpack(\">II\", telab.read(8))\n",
    "# The array module is an efficient array storage type implemented in Python\n",
    "# All array members must be of the same type\n",
    "# B unsigned byte type, b signed byte type\n",
    "trimage = array(\"B\", trimg.read())\n",
    "teimage = array(\"B\", teimg.read())\n",
    "trlabel = array(\"b\", trlab.read())\n",
    "telabel = array(\"b\", telab.read())\n",
    "# The close method is used to close an opened file. After closing, the file cannot be read or written.\n",
    "trimg.close()\n",
    "teimg.close()\n",
    "trlab.close()\n",
    "telab.close()\n",
    "#Define 10 subfolders for the training set and the test set, used to store all the numbers from 0 to 9, the folder names are 0-9\n",
    "trainfolders = [os.path.join(trainfolder, str(i)) for i in range(10)]\n",
    "testfolders = [os.path.join(testfolder, str(i)) for i in range(10)]\n",
    "for dir in trainfolders:\n",
    "    if not os.path.exists(dir):\n",
    "        os.makedirs(dir)\n",
    "for dir in testfolders:\n",
    "    if not os.path.exists(dir):\n",
    "        os.makedirs(dir)\n",
    "# Start saving training image data\n",
    "for (i, label) in enumerate(trlabel):\n",
    "    filename = os.path.join(trainfolders[label], str(i) + \".png\")\n",
    "    #print(\"writing \" + filename)\n",
    "    with open(filename, \"wb\") as img:\n",
    "        image = png.Writer(28, 28, greyscale=True)\n",
    "        data = [trimage[(i*28*28 + j*28) : (i*28*28 + (j+1)*28)] for j in range(28)]\n",
    "        image.write(img, data)\n",
    "print(\"end write train image\")\n",
    "\n",
    "# Start saving testing image data\n",
    "for (i, label) in enumerate(telabel):\n",
    "    filename = os.path.join(testfolders[label], str(i) + \".png\")\n",
    "    #print(\"writing \" + filename)\n",
    "    with open(filename, \"wb\") as img:\n",
    "        image = png.Writer(28, 28, greyscale=True)\n",
    "        data = [teimage[(i*28*28 + j*28) : (i*28*28 + (j+1)*28)] for j in range(28)]\n",
    "        image.write(img, data)\n",
    "print(\"end write test image\")"
   ]
  },
  {
   "cell_type": "code",
   "execution_count": null,
   "metadata": {},
   "outputs": [],
   "source": [
    "import sys\n",
    "path = sys.path[1]\n",
    "model_path=os.path.join(path,'model\\\\svm.model')"
   ]
  },
  {
   "cell_type": "code",
   "execution_count": null,
   "metadata": {},
   "outputs": [],
   "source": [
    "print(model_path)"
   ]
  },
  {
   "cell_type": "code",
   "execution_count": null,
   "metadata": {},
   "outputs": [],
   "source": []
  }
 ],
 "metadata": {
  "kernelspec": {
   "display_name": "Python 2",
   "language": "python",
   "name": "python2"
  },
  "language_info": {
   "codemirror_mode": {
    "name": "ipython",
    "version": 2
   },
   "file_extension": ".py",
   "mimetype": "text/x-python",
   "name": "python",
   "nbconvert_exporter": "python",
   "pygments_lexer": "ipython2",
   "version": "2.7.16"
  }
 },
 "nbformat": 4,
 "nbformat_minor": 4
}
