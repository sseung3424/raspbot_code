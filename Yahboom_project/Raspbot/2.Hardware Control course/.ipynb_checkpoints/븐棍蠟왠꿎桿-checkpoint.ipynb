{
 "cells": [
  {
   "cell_type": "markdown",
   "metadata": {},
   "source": [
    "/**\n",
    "* @par Copyright (C): 2010-2020, Shenzhen Yahboom Tech\n",
    "* @file:         红外遥控测试.ipynb\n",
    "* @author:       xiaozhen\n",
    "* @version:      V1.0\n",
    "* @date:         2020.09.24\n",
    "* @brief:        红外遥控器码值测试\n",
    "* @details:\n",
    "* @par History:  见如下说明\n",
    "*/"
   ]
  },
  {
   "cell_type": "markdown",
   "metadata": {},
   "source": [
    "### 导入我们需要用到的库文件"
   ]
  },
  {
   "cell_type": "code",
   "execution_count": 1,
   "metadata": {},
   "outputs": [],
   "source": [
    "#!/usr/bin/python3\n",
    "# -*- coding:utf-8 -*-\n",
    "import RPi.GPIO as GPIO\n",
    "import time"
   ]
  },
  {
   "cell_type": "markdown",
   "metadata": {},
   "source": [
    "### 定义本次课程需要用到的引脚。\n",
    "\n",
    "### 设置GPIO的编码方式，以及初始化设置。"
   ]
  },
  {
   "cell_type": "code",
   "execution_count": 2,
   "metadata": {},
   "outputs": [
    {
     "name": "stdout",
     "output_type": "stream",
     "text": [
      "IR test start...\n"
     ]
    }
   ],
   "source": [
    "PIN = 36;   #定义红外遥控器的引脚 \n",
    "\n",
    "#设置GPIO口为BIARD编码方式\n",
    "GPIO.setmode(GPIO.BOARD)\n",
    "\n",
    "#忽略警告信息\n",
    "GPIO.setwarnings(False)\n",
    "ir_repeat_cnt = 0\n",
    "#红外接收头的引脚需要设置成输入上拉\n",
    "GPIO.setup(PIN,GPIO.IN,GPIO.PUD_UP)\n",
    "print(\"IR test start...\")  #初始化打印“IR test start\"."
   ]
  },
  {
   "cell_type": "markdown",
   "metadata": {},
   "source": [
    "### 以下内容是主循环函数"
   ]
  },
  {
   "cell_type": "code",
   "execution_count": null,
   "metadata": {},
   "outputs": [
    {
     "name": "stdout",
     "output_type": "stream",
     "text": [
      "start\n",
      "Get the key: 0x18\n"
     ]
    }
   ],
   "source": [
    "try:\n",
    "    print(\"start\")\n",
    "    while True:\n",
    "        if GPIO.input(PIN) == 0:   #检测到红外遥控器发射过来的信号\n",
    "            ir_repeat_cnt = 0;\n",
    "            count = 0\n",
    "            while GPIO.input(PIN) == 0 and count < 200:   #判断9ms高电平脉冲的引导码\n",
    "                count += 1\n",
    "                time.sleep(0.00006)\n",
    "\n",
    "            count = 0\n",
    "            while GPIO.input(PIN) == 1 and count < 80:   #判断4.5ms低电平脉冲的引导码\n",
    "                count += 1\n",
    "                time.sleep(0.00006)\n",
    "\n",
    "            idx = 0\n",
    "            cnt = 0\n",
    "            data = [0,0,0,0]   #定义data用于存放红外信号的地址码、地址反码、信号码、信号反码\n",
    "            for i in range(0,32):   #data[0],data[1],data[2],data[3]一共是8bit*4=32\n",
    "                count = 0\n",
    "                while GPIO.input(PIN) == 0 and count < 10:   #解码开始 用于过滤逻辑0和逻辑1最前面的560us的脉冲\n",
    "                    count += 1\n",
    "                    time.sleep(0.00006)\n",
    "\n",
    "                count = 0\n",
    "                while GPIO.input(PIN) == 1 and count < 40:   #用于判断560us高电平脉冲之后，剩下的低电平脉冲时间长度，以此来判断是逻辑0还是逻辑1\n",
    "                    '''\n",
    "                    说明：\n",
    "                    根据红外NCE协议可知：\n",
    "                    逻辑1的周期是2.25ms，脉冲时间是0.56ms. 总的周期-脉冲时间即可得到我们这里所设定的值，设定值要比实际的值略大一些。\n",
    "                    同理：\n",
    "                    逻辑0周期是1.12，时间是0.56ms. 总的周期-脉冲时间即可得到我们这里所设定的值，设定值要比实际的值略大一些。\n",
    "                    '''\n",
    "                    count += 1\n",
    "                    time.sleep(0.00006)\n",
    "\n",
    "                if count > 9:    \n",
    "                    #用于判断当前接收到的信号是逻辑1还是逻辑0.如果count>9的话，证明当前低电平信号的时长大于560(9*60=540us)，也就是逻辑1.\n",
    "                    #比如：当count=10时，低电平信号是10*60=600us(大于560us）为逻辑1。\n",
    "                    data[idx] |= 1<<cnt   #1左移cnt位，并与data[idx]为了获取data[idx]的cnt位\n",
    "                if cnt == 7:   #当cnt=7时，满一个字节，开始准备存储下一个字节。\n",
    "                    cnt = 0\n",
    "                    idx += 1\n",
    "                else:\n",
    "                    cnt += 1  #当cnt不等于7时，继续按顺序存储当前字节。\n",
    "            if data[0]+data[1] == 0xFF and data[2]+data[3] == 0xFF:  #data[0]与datap[1]互为反码，dta[2]datap[3互为反码，反码相加为0XFF. 这里用于判断收到的是正确的红外遥控器码值。\n",
    "                print(\"Get the key: 0x%02x\" %data[2])   #打印获取到的命令码\n",
    "        else:\n",
    "            if ir_repeat_cnt > 110: #判断红外遥控器按键是否被松开，因为重复周期的时间是110ms,所以这里要设置成110*0.001.\n",
    "                ir_repeat_cnt = 0\n",
    "            else:\n",
    "                time.sleep(0.001)\n",
    "                ir_repeat_cnt += 1\n",
    "except KeyboardInterrupt:\n",
    "    pass\n",
    "print(\"Ending\")\n",
    "GPIO.cleanup()"
   ]
  },
  {
   "cell_type": "markdown",
   "metadata": {},
   "source": [
    "### 当你需要结束整个程序时，请点击上方菜单栏中的方块型按钮(Interrupt the kernel）.\n",
    "### 然后你可以看到Ending提示，表示已经成功地结束了这个程序"
   ]
  },
  {
   "cell_type": "code",
   "execution_count": null,
   "metadata": {},
   "outputs": [],
   "source": []
  }
 ],
 "metadata": {
  "kernelspec": {
   "display_name": "Python 3",
   "language": "python",
   "name": "python3"
  },
  "language_info": {
   "codemirror_mode": {
    "name": "ipython",
    "version": 3
   },
   "file_extension": ".py",
   "mimetype": "text/x-python",
   "name": "python",
   "nbconvert_exporter": "python",
   "pygments_lexer": "ipython3",
   "version": "3.7.3"
  }
 },
 "nbformat": 4,
 "nbformat_minor": 4
}
