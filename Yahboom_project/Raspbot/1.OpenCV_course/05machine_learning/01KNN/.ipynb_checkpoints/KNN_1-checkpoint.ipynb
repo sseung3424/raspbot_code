{
 "cells": [
  {
   "cell_type": "markdown",
   "metadata": {},
   "source": [
    "<center><img src=\"../../logo.png\" alt=\"Header\" style=\"width: 800px;\"/></center>"
   ]
  },
  {
   "cell_type": "markdown",
   "metadata": {},
   "source": [
    "@Copyright (C): 2010-2022, Shenzhen Yahboom Tech  \n",
    "@Author: Liusen  \n",
    "@Date: 2020-03-10 12:11:02  \n",
    "@LastEditors: Liusen  \n",
    "@LastEditTime: 2020-02-18 12:12:02   "
   ]
  },
  {
   "cell_type": "code",
   "execution_count": null,
   "metadata": {},
   "outputs": [],
   "source": [
    "#!/usr/bin/env python3\n",
    "# -*- coding: utf-8 -*-\n",
    "\n",
    "import numpy\n",
    "import operator\n",
    "import os\n",
    "import matplotlib.pyplot as plt\n"
   ]
  },
  {
   "cell_type": "code",
   "execution_count": null,
   "metadata": {},
   "outputs": [],
   "source": [
    "# Convert image data to (1,1024) vector\n",
    "def img2vector(filename):\n",
    "    returnVect = numpy.zeros((1, 1024))\n",
    "    file = open(filename)\n",
    "    for i in range(32):\n",
    "        lineStr = file.readline()\n",
    "        for j in range(32):\n",
    "            returnVect[0, 32 * i + j] = int(lineStr[j])\n",
    "    return returnVect"
   ]
  },
  {
   "cell_type": "code",
   "execution_count": null,
   "metadata": {},
   "outputs": [],
   "source": [
    "# KNN Classifier\n",
    "def classifier(inX, dataSet, labels, k):\n",
    "    #numpy shape [0] return the number of rows in the array, shape [1] returns the number of columns\n",
    "    #MDS\n",
    "    dataSetSize = dataSet.shape[0]\n",
    "    #The inverse matrix\n",
    "    diffMat = numpy.tile(inX, (dataSetSize, 1)) - dataSet\n",
    "    #subtract a 2-d feature and you multiply it\n",
    "    sqDiffMat = diffMat ** 2\n",
    "    #Calculation of distance\n",
    "    sqDistances = sqDiffMat.sum(axis=1)\n",
    "    distances = sqDistances ** 0.5\n",
    "    print (\"distances:\",distances)\n",
    "    #Returns the index of the elements in distance sorted from smallest to largest\n",
    "    sortedDistIndicies = distances.argsort()\n",
    "    print (\"sortDistance:\",sortedDistIndicies)\n",
    "    classCount = {}\n",
    "    for i in range(k):\n",
    "        #Take the categories of the first k elements\n",
    "        voteIlabel = labels[sortedDistIndicies[i]]\n",
    "        classCount[voteIlabel] = classCount.get(voteIlabel, 0) + 1\n",
    "    #reverse\n",
    "    sortedClassCount = sorted(classCount.items(), key=operator.itemgetter(1), reverse=True)\n",
    "    return sortedClassCount[0][0]"
   ]
  },
  {
   "cell_type": "code",
   "execution_count": null,
   "metadata": {},
   "outputs": [],
   "source": [
    "# Test the handwritten number recognition code\n",
    "def handWritingClassTest(k):\n",
    "    #Training\n",
    "    hwLabels = []\n",
    "    trainingFileList = os.listdir('knn-digits/trainingDigits')\n",
    "    m = len(trainingFileList)\n",
    "    trainingMat = numpy.zeros((m, 1024))\n",
    "    for i in range(m):\n",
    "        fileNameStr = trainingFileList[i]\n",
    "        fileStr = fileNameStr.split('.')[0]  \n",
    "        try:\n",
    "            classNumStr = int(fileStr.split('_')[0])\n",
    "        except Exception as e:\n",
    "            print('Error:', e)\n",
    " \n",
    "        hwLabels.append(classNumStr)\n",
    "        trainingMat[i, :] = img2vector(\"knn-digits/trainingDigits/%s\" % fileNameStr)\n",
    "    \n",
    "    #Test data classification results\n",
    "    testFileList = os.listdir('knn-digits/testDigits')\n",
    "    errorCount = 0.0\n",
    "    mTest = len(testFileList)\n",
    "    for i in range(mTest):\n",
    "        fileNameStr = testFileList[i]\n",
    "        fileStr = fileNameStr.split('.')[0]\n",
    "        try:\n",
    "            classNumStr = int(fileStr.split('_')[0])\n",
    "        except ValueError:\n",
    "            #pass\n",
    "            continue\n",
    "        vectorTest = img2vector(\"knn-digits/testDigits/%s\" % fileNameStr)\n",
    "        result = classifier(vectorTest, trainingMat, hwLabels, k)\n",
    "        print(\"The classification result is:%d,  The real result is:%d\" % (result, classNumStr))\n",
    "        if result != classNumStr:\n",
    "            errorCount += 1.0\n",
    "    print(\"Total number of errors:%d\" % errorCount)\n",
    "    print(\"Error rate:%f\" % (errorCount / mTest))\n",
    "    return errorCount"
   ]
  },
  {
   "cell_type": "code",
   "execution_count": null,
   "metadata": {},
   "outputs": [],
   "source": [
    "# Choose a different k value to view the classification effect\n",
    "def selectK():\n",
    "    x = list()\n",
    "    y = list()\n",
    "    for i in range(1, 5):\n",
    "        x.append(int(i))\n",
    "        y.append(int(handWritingClassTest(i)))\n",
    "    plt.plot(x, y)\n",
    "    # Due to the relatively long execution time of the program, here is a voice reminder when the program execution is completed (for Mac, Windows users remove this line of code)\n",
    "    # os.system(\"say 'The program is finished'\")\n",
    "    plt.show()"
   ]
  },
  {
   "cell_type": "code",
   "execution_count": null,
   "metadata": {},
   "outputs": [],
   "source": [
    "# Start the test, a line chart will be generated\n",
    "selectK()"
   ]
  },
  {
   "cell_type": "code",
   "execution_count": null,
   "metadata": {},
   "outputs": [],
   "source": [
    "# The experimental results prove that taking k = 3 with a better effect"
   ]
  },
  {
   "cell_type": "code",
   "execution_count": null,
   "metadata": {},
   "outputs": [],
   "source": [
    "handWritingClassTest(3)"
   ]
  },
  {
   "cell_type": "code",
   "execution_count": null,
   "metadata": {},
   "outputs": [],
   "source": []
  }
 ],
 "metadata": {
  "kernelspec": {
   "display_name": "Python 3",
   "language": "python",
   "name": "python3"
  },
  "language_info": {
   "codemirror_mode": {
    "name": "ipython",
    "version": 3
   },
   "file_extension": ".py",
   "mimetype": "text/x-python",
   "name": "python",
   "nbconvert_exporter": "python",
   "pygments_lexer": "ipython3",
   "version": "3.7.3"
  }
 },
 "nbformat": 4,
 "nbformat_minor": 4
}
