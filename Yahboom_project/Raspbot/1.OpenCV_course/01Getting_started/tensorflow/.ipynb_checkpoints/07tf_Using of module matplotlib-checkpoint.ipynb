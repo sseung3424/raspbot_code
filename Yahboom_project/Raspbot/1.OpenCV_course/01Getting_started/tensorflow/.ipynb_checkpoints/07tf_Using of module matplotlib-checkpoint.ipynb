{
 "cells": [
  {
   "cell_type": "code",
   "execution_count": null,
   "metadata": {},
   "outputs": [],
   "source": [
    "import numpy as np\n",
    "import matplotlib.pyplot as plt\n",
    "x = np.array([1,2,3,4,5,6,7,8])\n",
    "y = np.array([3,5,7,6,2,6,10,15])\n",
    "plt.plot(x,y,'r')# Polyline 1 x 2 y 3 color\n",
    "plt.plot(x,y,'g',lw=10)# 4 line w\n",
    "# Polyline pie columnar\n",
    "x = np.array([1,2,3,4,5,6,7,8])\n",
    "y = np.array([13,25,17,36,21,16,10,15])\n",
    "plt.bar(x,y,0.2,alpha=1,color='b')# 5 color 4 transparency 3 0.9\n",
    "plt.show()"
   ]
  },
  {
   "cell_type": "code",
   "execution_count": null,
   "metadata": {},
   "outputs": [],
   "source": []
  }
 ],
 "metadata": {
  "kernelspec": {
   "display_name": "Python 3",
   "language": "python",
   "name": "python3"
  },
  "language_info": {
   "codemirror_mode": {
    "name": "ipython",
    "version": 3
   },
   "file_extension": ".py",
   "mimetype": "text/x-python",
   "name": "python",
   "nbconvert_exporter": "python",
   "pygments_lexer": "ipython3",
   "version": "3.7.3"
  }
 },
 "nbformat": 4,
 "nbformat_minor": 4
}
