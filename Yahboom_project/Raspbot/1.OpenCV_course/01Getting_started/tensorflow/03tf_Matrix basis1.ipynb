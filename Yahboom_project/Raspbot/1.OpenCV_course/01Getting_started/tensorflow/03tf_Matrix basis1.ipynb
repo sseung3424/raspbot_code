{
 "cells": [
  {
   "cell_type": "code",
   "execution_count": null,
   "metadata": {},
   "outputs": [],
   "source": [
    "#placehold\n",
    "import tensorflow as tf\n",
    "data1 = tf.placeholder(tf.float32)\n",
    "data2 = tf.placeholder(tf.float32)\n",
    "dataAdd = tf.add(data1,data2)\n",
    "with tf.Session() as sess:\n",
    "    print(sess.run(dataAdd,feed_dict={data1:6,data2:2}))\n",
    "    # 1 dataAdd 2 data (feed_dict = {1:6,2:2})\n",
    "print('end!')"
   ]
  },
  {
   "cell_type": "code",
   "execution_count": null,
   "metadata": {},
   "outputs": [],
   "source": [
    "#Analogy Array M rows and N columns [] internal [] [inside column data] [] overall number of square brackets\n",
    "#[[6,6]] [[6,6]]\n",
    "import tensorflow as tf\n",
    "data1 = tf.constant([[6,6]])\n",
    "data2 = tf.constant([[2],\n",
    "                     [2]])\n",
    "data3 = tf.constant([[3,3]])\n",
    "data4 = tf.constant([[1,2],\n",
    "                     [3,4],\n",
    "                     [5,6]])\n",
    "print(data4.shape)# Dimension\n",
    "with tf.Session() as sess:\n",
    "    print(sess.run(data4)) #Print the whole\n",
    "    print(sess.run(data4[0]))# Print a line\n",
    "    print(sess.run(data4[:,0]))#MN Column\n",
    "    print(sess.run(data4[0,1]))# 1 1  MN = 0 32 = M012 N01"
   ]
  },
  {
   "cell_type": "code",
   "execution_count": null,
   "metadata": {},
   "outputs": [],
   "source": []
  }
 ],
 "metadata": {
  "kernelspec": {
   "display_name": "Python 3",
   "language": "python",
   "name": "python3"
  },
  "language_info": {
   "codemirror_mode": {
    "name": "ipython",
    "version": 3
   },
   "file_extension": ".py",
   "mimetype": "text/x-python",
   "name": "python",
   "nbconvert_exporter": "python",
   "pygments_lexer": "ipython3",
   "version": "3.7.3"
  }
 },
 "nbformat": 4,
 "nbformat_minor": 4
}
